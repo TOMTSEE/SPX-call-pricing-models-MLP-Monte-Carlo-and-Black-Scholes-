{
 "cells": [
  {
   "cell_type": "code",
   "execution_count": 5,
   "id": "ff76af11",
   "metadata": {},
   "outputs": [
    {
     "name": "stdout",
     "output_type": "stream",
     "text": [
      "(2567, 5)\n",
      "(1, 2567)\n",
      "{'activation': 'relu', 'alpha': 0.0001, 'batch_size': 'auto', 'beta_1': 0.9, 'beta_2': 0.999, 'early_stopping': False, 'epsilon': 1e-08, 'hidden_layer_sizes': (100,), 'learning_rate': 'constant', 'learning_rate_init': 0.001, 'max_fun': 15000, 'max_iter': 500, 'momentum': 0.9, 'n_iter_no_change': 10, 'nesterovs_momentum': True, 'power_t': 0.5, 'random_state': None, 'shuffle': True, 'solver': 'adam', 'tol': 0.0001, 'validation_fraction': 0.1, 'verbose': False, 'warm_start': False}\n",
      "3\n",
      "(212, 5)\n",
      "done\n"
     ]
    }
   ],
   "source": [
    "import numpy as np\n",
    "import pandas as pd\n",
    "from sklearn.neural_network import MLPRegressor\n",
    " \n",
    "    \n",
    "def prediction(X):\n",
    "    \n",
    "    df = pd.DataFrame(call_pricing.predict(X))\n",
    "    writer = pd.ExcelWriter('Non-Linear Regession-call pricing.xlsx', engine='xlsxwriter')\n",
    "    df.to_excel(writer,sheet_name='price', index=False)\n",
    "    writer.save()\n",
    "\n",
    "data_x = pd.read_excel('Call pricing - X.xlsx',header=0)\n",
    "print(data_x.shape)\n",
    "## data_x.head()\n",
    "train_x = data_x.to_numpy()\n",
    "## print(train_x)\n",
    "\n",
    "data_y = pd.read_excel('Call pricing - Y.xlsx',header=0)\n",
    "print(data_y.shape)\n",
    "## data_y.head()\n",
    "train_y = data_y.to_numpy()\n",
    "    \n",
    "call_pricing = MLPRegressor(max_iter=500)\n",
    "call_pricing.fit(train_x,train_y[0])\n",
    "print(call_pricing.get_params())\n",
    "print(call_pricing.n_layers_)    \n",
    "\n",
    "test_x = pd.read_excel('Call pricing - test.xlsx',header=0)\n",
    "print(test_x.shape)\n",
    "test = test_x.to_numpy()\n",
    "prediction(test)\n",
    "## print(test[1])\n",
    "\n",
    "print(\"done\")\n"
   ]
  },
  {
   "cell_type": "code",
   "execution_count": null,
   "id": "79c33bdb",
   "metadata": {},
   "outputs": [],
   "source": []
  },
  {
   "cell_type": "code",
   "execution_count": null,
   "id": "4a7392cd",
   "metadata": {},
   "outputs": [],
   "source": []
  }
 ],
 "metadata": {
  "kernelspec": {
   "display_name": "Python 3 (ipykernel)",
   "language": "python",
   "name": "python3"
  },
  "language_info": {
   "codemirror_mode": {
    "name": "ipython",
    "version": 3
   },
   "file_extension": ".py",
   "mimetype": "text/x-python",
   "name": "python",
   "nbconvert_exporter": "python",
   "pygments_lexer": "ipython3",
   "version": "3.9.7"
  }
 },
 "nbformat": 4,
 "nbformat_minor": 5
}
