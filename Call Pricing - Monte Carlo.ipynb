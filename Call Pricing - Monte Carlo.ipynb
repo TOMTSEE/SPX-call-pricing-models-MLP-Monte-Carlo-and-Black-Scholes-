{
 "cells": [
  {
   "cell_type": "code",
   "execution_count": 3,
   "id": "ff76af11",
   "metadata": {},
   "outputs": [
    {
     "name": "stdout",
     "output_type": "stream",
     "text": [
      "(212, 5)\n",
      "ok\n"
     ]
    }
   ],
   "source": [
    "import numpy as np\n",
    "import pandas as pd\n",
    "from numpy.random import standard_normal\n",
    "\n",
    "def mcmodel(S,X,r,sigma,t,n):\n",
    "    z=standard_normal(n)\n",
    "    St=S*np.exp((r-0.5*sigma**2)*t+sigma*z*np.sqrt(t))\n",
    "    return sum(np.maximum(0,St-X))*(np.exp(-r*t))/n\n",
    "\n",
    "test_x = pd.read_excel('Call pricing - test.xlsx',header=0)\n",
    "print(test_x.shape)\n",
    "test = test_x.to_numpy()\n",
    "## print(test[1])\n",
    "test_price = []\n",
    "for item in test:\n",
    "    count=0\n",
    "    c=mcmodel(item[1],item[0],item[4],item[3],item[2]/365,10000)\n",
    "    test_price.append(c)\n",
    "    count +=1\n",
    "df = pd.DataFrame(test_price)\n",
    "writer = pd.ExcelWriter('Monte Carlo - call pricing.xlsx', engine='xlsxwriter')\n",
    "df.to_excel(writer,sheet_name='price', index=False)\n",
    "writer.save()\n",
    "print(\"done\")"
   ]
  },
  {
   "cell_type": "code",
   "execution_count": null,
   "id": "48141107",
   "metadata": {},
   "outputs": [],
   "source": []
  },
  {
   "cell_type": "code",
   "execution_count": 39,
   "id": "2b03659b",
   "metadata": {},
   "outputs": [],
   "source": []
  },
  {
   "cell_type": "code",
   "execution_count": null,
   "id": "79c33bdb",
   "metadata": {},
   "outputs": [],
   "source": []
  },
  {
   "cell_type": "code",
   "execution_count": null,
   "id": "4a7392cd",
   "metadata": {},
   "outputs": [],
   "source": []
  }
 ],
 "metadata": {
  "kernelspec": {
   "display_name": "Python 3 (ipykernel)",
   "language": "python",
   "name": "python3"
  },
  "language_info": {
   "codemirror_mode": {
    "name": "ipython",
    "version": 3
   },
   "file_extension": ".py",
   "mimetype": "text/x-python",
   "name": "python",
   "nbconvert_exporter": "python",
   "pygments_lexer": "ipython3",
   "version": "3.9.7"
  }
 },
 "nbformat": 4,
 "nbformat_minor": 5
}
