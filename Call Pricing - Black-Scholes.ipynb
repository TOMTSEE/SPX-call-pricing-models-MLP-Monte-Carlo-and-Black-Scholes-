{
 "cells": [
  {
   "cell_type": "code",
   "execution_count": 2,
   "id": "ff76af11",
   "metadata": {},
   "outputs": [
    {
     "name": "stdout",
     "output_type": "stream",
     "text": [
      "(212, 5)\n"
     ]
    }
   ],
   "source": [
    "import numpy as np\n",
    "import pandas as pd\n",
    "from scipy.stats import norm\n",
    "import math\n",
    "\n",
    "def bsmodel(S,X,r,sigma,t):\n",
    "    \n",
    "    d1 = (np.log(S/X)+(r+0.5*sigma**2)*t)/(sigma*np.sqrt(t))\n",
    "    d2 = (np.log(S/X)+(r-0.5*sigma**2)*t)/(sigma*np.sqrt(t))\n",
    "    return (S*norm.cdf(d1,0.0,1.0) - X*np.exp(-r*t)*norm.cdf(d2,0.0,1.0))\n",
    "    \n",
    "\n",
    "test_x = pd.read_excel('Call pricing - test.xlsx',header=0)\n",
    "print(test_x.shape)\n",
    "test = test_x.to_numpy()\n",
    "## print(test[1])\n",
    "test_price = []\n",
    "for item in test:\n",
    "    count=0\n",
    "    c=bsmodel(item[1],item[0],item[4],item[3],item[2]/365)\n",
    "    test_price.append(c)\n",
    "    count +=1\n",
    "df = pd.DataFrame(test_price)\n",
    "writer = pd.ExcelWriter('BS - call pricing.xlsx', engine='xlsxwriter')\n",
    "df.to_excel(writer,sheet_name='price', index=False)\n",
    "writer.save()"
   ]
  },
  {
   "cell_type": "code",
   "execution_count": null,
   "id": "48141107",
   "metadata": {},
   "outputs": [],
   "source": []
  },
  {
   "cell_type": "code",
   "execution_count": 39,
   "id": "2b03659b",
   "metadata": {},
   "outputs": [],
   "source": []
  },
  {
   "cell_type": "code",
   "execution_count": null,
   "id": "79c33bdb",
   "metadata": {},
   "outputs": [],
   "source": []
  },
  {
   "cell_type": "code",
   "execution_count": null,
   "id": "4a7392cd",
   "metadata": {},
   "outputs": [],
   "source": []
  }
 ],
 "metadata": {
  "kernelspec": {
   "display_name": "Python 3 (ipykernel)",
   "language": "python",
   "name": "python3"
  },
  "language_info": {
   "codemirror_mode": {
    "name": "ipython",
    "version": 3
   },
   "file_extension": ".py",
   "mimetype": "text/x-python",
   "name": "python",
   "nbconvert_exporter": "python",
   "pygments_lexer": "ipython3",
   "version": "3.9.7"
  }
 },
 "nbformat": 4,
 "nbformat_minor": 5
}
